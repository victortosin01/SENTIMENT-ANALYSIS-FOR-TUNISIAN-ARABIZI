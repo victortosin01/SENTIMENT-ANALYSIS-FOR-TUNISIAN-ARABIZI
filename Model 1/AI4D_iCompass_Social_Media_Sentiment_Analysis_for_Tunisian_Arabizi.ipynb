{
  "cells": [
    {
      "cell_type": "markdown",
      "source": [
        "# **Social Media Sentiment Analysis for Tunisian Arabizi**"
      ],
      "metadata": {
        "id": "VkOol_6NsdaM"
      }
    },
    {
      "cell_type": "markdown",
      "metadata": {
        "id": "rz5rgCWjNK0N"
      },
      "source": [
        "## **Libraries**"
      ]
    },
    {
      "cell_type": "code",
      "execution_count": 1,
      "metadata": {
        "colab": {
          "base_uri": "https://localhost:8080/"
        },
        "id": "5RIqbGFbvKhH",
        "outputId": "e5b270f5-2350-4df3-d25f-0b517a381546"
      },
      "outputs": [
        {
          "output_type": "stream",
          "name": "stdout",
          "text": [
            "Collecting catboost\n",
            "  Downloading catboost-1.0.5-cp37-none-manylinux1_x86_64.whl (76.6 MB)\n",
            "\u001b[K     |████████████████████████████████| 76.6 MB 1.1 MB/s \n",
            "\u001b[?25hRequirement already satisfied: plotly in /usr/local/lib/python3.7/dist-packages (from catboost) (5.5.0)\n",
            "Requirement already satisfied: numpy>=1.16.0 in /usr/local/lib/python3.7/dist-packages (from catboost) (1.21.5)\n",
            "Requirement already satisfied: matplotlib in /usr/local/lib/python3.7/dist-packages (from catboost) (3.2.2)\n",
            "Requirement already satisfied: six in /usr/local/lib/python3.7/dist-packages (from catboost) (1.15.0)\n",
            "Requirement already satisfied: scipy in /usr/local/lib/python3.7/dist-packages (from catboost) (1.4.1)\n",
            "Requirement already satisfied: pandas>=0.24.0 in /usr/local/lib/python3.7/dist-packages (from catboost) (1.3.5)\n",
            "Requirement already satisfied: graphviz in /usr/local/lib/python3.7/dist-packages (from catboost) (0.10.1)\n",
            "Requirement already satisfied: pytz>=2017.3 in /usr/local/lib/python3.7/dist-packages (from pandas>=0.24.0->catboost) (2018.9)\n",
            "Requirement already satisfied: python-dateutil>=2.7.3 in /usr/local/lib/python3.7/dist-packages (from pandas>=0.24.0->catboost) (2.8.2)\n",
            "Requirement already satisfied: kiwisolver>=1.0.1 in /usr/local/lib/python3.7/dist-packages (from matplotlib->catboost) (1.4.2)\n",
            "Requirement already satisfied: cycler>=0.10 in /usr/local/lib/python3.7/dist-packages (from matplotlib->catboost) (0.11.0)\n",
            "Requirement already satisfied: pyparsing!=2.0.4,!=2.1.2,!=2.1.6,>=2.0.1 in /usr/local/lib/python3.7/dist-packages (from matplotlib->catboost) (3.0.8)\n",
            "Requirement already satisfied: typing-extensions in /usr/local/lib/python3.7/dist-packages (from kiwisolver>=1.0.1->matplotlib->catboost) (4.1.1)\n",
            "Requirement already satisfied: tenacity>=6.2.0 in /usr/local/lib/python3.7/dist-packages (from plotly->catboost) (8.0.1)\n",
            "Installing collected packages: catboost\n",
            "Successfully installed catboost-1.0.5\n"
          ]
        }
      ],
      "source": [
        "!pip install catboost"
      ]
    },
    {
      "cell_type": "code",
      "execution_count": 2,
      "metadata": {
        "id": "9tgE1VgqEvSL"
      },
      "outputs": [],
      "source": [
        "#Basic Libraries\n",
        "import re\n",
        "import nltk\n",
        "import string\n",
        "import numpy as np\n",
        "import pandas as pd\n",
        "import seaborn as sns\n",
        "import matplotlib.pyplot as plt\n",
        "\n",
        "#NLTK libraries\n",
        "from nltk.corpus import stopwords\n",
        "from nltk.stem import PorterStemmer, WordNetLemmatizer\n",
        "\n",
        "#Feature extraction process\n",
        "from sklearn.feature_extraction.text import CountVectorizer, TfidfVectorizer\n",
        "\n",
        "#Models\n",
        "import lightgbm as lgb\n",
        "from catboost import CatBoostClassifier\n",
        "from sklearn.ensemble import RandomForestClassifier\n",
        "\n",
        "\n",
        "#Dimensionality reduction library\n",
        "from sklearn.decomposition import PCA \n",
        "\n",
        "from sklearn.model_selection import StratifiedKFold\n",
        "from sklearn.metrics import accuracy_score, confusion_matrix\n",
        "\n",
        "from sklearn.preprocessing import PolynomialFeatures\n",
        "\n",
        "import warnings\n",
        "warnings.filterwarnings('ignore')"
      ]
    },
    {
      "cell_type": "code",
      "execution_count": 3,
      "metadata": {
        "colab": {
          "base_uri": "https://localhost:8080/"
        },
        "id": "giAeWAdbL7gT",
        "outputId": "63161e71-655d-45bd-ef74-fcfb7bedd698"
      },
      "outputs": [
        {
          "output_type": "stream",
          "name": "stdout",
          "text": [
            "[nltk_data] Downloading package stopwords to /root/nltk_data...\n",
            "[nltk_data]   Unzipping corpora/stopwords.zip.\n",
            "[nltk_data] Downloading package punkt to /root/nltk_data...\n",
            "[nltk_data]   Unzipping tokenizers/punkt.zip.\n"
          ]
        },
        {
          "output_type": "execute_result",
          "data": {
            "text/plain": [
              "True"
            ]
          },
          "metadata": {},
          "execution_count": 3
        }
      ],
      "source": [
        "nltk.download('stopwords')\n",
        "nltk.download('punkt')"
      ]
    },
    {
      "cell_type": "markdown",
      "metadata": {
        "id": "xkG47Fj-NT3s"
      },
      "source": [
        "## **Dataset**"
      ]
    },
    {
      "cell_type": "code",
      "execution_count": 4,
      "metadata": {
        "id": "bSIJ5TxmNWgp"
      },
      "outputs": [],
      "source": [
        "train = pd.read_csv('NLP/Train.csv')\n",
        "test = pd.read_csv('NLP/Test.csv')\n",
        "SampleSubmission = pd.read_csv('NLP/SampleSubmission.csv')"
      ]
    },
    {
      "cell_type": "markdown",
      "metadata": {
        "id": "aHUnKaNbN8VM"
      },
      "source": [
        "## **Dataset Exploration**"
      ]
    },
    {
      "cell_type": "code",
      "execution_count": 5,
      "metadata": {
        "colab": {
          "base_uri": "https://localhost:8080/"
        },
        "id": "cMtW85P9NyfD",
        "outputId": "b8a09433-1268-4b52-ae6b-a0b43cb1e48d"
      },
      "outputs": [
        {
          "output_type": "stream",
          "name": "stdout",
          "text": [
            "The shape of the Train data is : (70000, 3)\n",
            "The shape of the Test data is : (30000, 2)\n",
            "The shape of the SampleSubmission data is : (30000, 2)\n"
          ]
        }
      ],
      "source": [
        "print(f\"The shape of the Train data is : {train.shape}\")\n",
        "print(f\"The shape of the Test data is : {test.shape}\")\n",
        "print(f\"The shape of the SampleSubmission data is : {SampleSubmission.shape}\")"
      ]
    },
    {
      "cell_type": "code",
      "execution_count": 6,
      "metadata": {
        "colab": {
          "base_uri": "https://localhost:8080/",
          "height": 0
        },
        "id": "zB-ux21-OXzq",
        "outputId": "0df4d081-3859-435f-a1c3-efadfce64f0a"
      },
      "outputs": [
        {
          "output_type": "execute_result",
          "data": {
            "text/plain": [
              "        ID                                               text  label\n",
              "0  13P0QT0  3sbaaaaaaaaaaaaaaaaaaaa lek ou le seim riahi o...     -1\n",
              "1  SKCLXCJ       cha3eb fey9elkoum menghir ta7ayoul ou kressi     -1\n",
              "2  V1TVXIJ  bereau degage nathef ya slim walahi ya7chiw fi...     -1"
            ],
            "text/html": [
              "\n",
              "  <div id=\"df-473c1b4d-a700-4c01-b004-55a579b3c369\">\n",
              "    <div class=\"colab-df-container\">\n",
              "      <div>\n",
              "<style scoped>\n",
              "    .dataframe tbody tr th:only-of-type {\n",
              "        vertical-align: middle;\n",
              "    }\n",
              "\n",
              "    .dataframe tbody tr th {\n",
              "        vertical-align: top;\n",
              "    }\n",
              "\n",
              "    .dataframe thead th {\n",
              "        text-align: right;\n",
              "    }\n",
              "</style>\n",
              "<table border=\"1\" class=\"dataframe\">\n",
              "  <thead>\n",
              "    <tr style=\"text-align: right;\">\n",
              "      <th></th>\n",
              "      <th>ID</th>\n",
              "      <th>text</th>\n",
              "      <th>label</th>\n",
              "    </tr>\n",
              "  </thead>\n",
              "  <tbody>\n",
              "    <tr>\n",
              "      <th>0</th>\n",
              "      <td>13P0QT0</td>\n",
              "      <td>3sbaaaaaaaaaaaaaaaaaaaa lek ou le seim riahi o...</td>\n",
              "      <td>-1</td>\n",
              "    </tr>\n",
              "    <tr>\n",
              "      <th>1</th>\n",
              "      <td>SKCLXCJ</td>\n",
              "      <td>cha3eb fey9elkoum menghir ta7ayoul ou kressi</td>\n",
              "      <td>-1</td>\n",
              "    </tr>\n",
              "    <tr>\n",
              "      <th>2</th>\n",
              "      <td>V1TVXIJ</td>\n",
              "      <td>bereau degage nathef ya slim walahi ya7chiw fi...</td>\n",
              "      <td>-1</td>\n",
              "    </tr>\n",
              "  </tbody>\n",
              "</table>\n",
              "</div>\n",
              "      <button class=\"colab-df-convert\" onclick=\"convertToInteractive('df-473c1b4d-a700-4c01-b004-55a579b3c369')\"\n",
              "              title=\"Convert this dataframe to an interactive table.\"\n",
              "              style=\"display:none;\">\n",
              "        \n",
              "  <svg xmlns=\"http://www.w3.org/2000/svg\" height=\"24px\"viewBox=\"0 0 24 24\"\n",
              "       width=\"24px\">\n",
              "    <path d=\"M0 0h24v24H0V0z\" fill=\"none\"/>\n",
              "    <path d=\"M18.56 5.44l.94 2.06.94-2.06 2.06-.94-2.06-.94-.94-2.06-.94 2.06-2.06.94zm-11 1L8.5 8.5l.94-2.06 2.06-.94-2.06-.94L8.5 2.5l-.94 2.06-2.06.94zm10 10l.94 2.06.94-2.06 2.06-.94-2.06-.94-.94-2.06-.94 2.06-2.06.94z\"/><path d=\"M17.41 7.96l-1.37-1.37c-.4-.4-.92-.59-1.43-.59-.52 0-1.04.2-1.43.59L10.3 9.45l-7.72 7.72c-.78.78-.78 2.05 0 2.83L4 21.41c.39.39.9.59 1.41.59.51 0 1.02-.2 1.41-.59l7.78-7.78 2.81-2.81c.8-.78.8-2.07 0-2.86zM5.41 20L4 18.59l7.72-7.72 1.47 1.35L5.41 20z\"/>\n",
              "  </svg>\n",
              "      </button>\n",
              "      \n",
              "  <style>\n",
              "    .colab-df-container {\n",
              "      display:flex;\n",
              "      flex-wrap:wrap;\n",
              "      gap: 12px;\n",
              "    }\n",
              "\n",
              "    .colab-df-convert {\n",
              "      background-color: #E8F0FE;\n",
              "      border: none;\n",
              "      border-radius: 50%;\n",
              "      cursor: pointer;\n",
              "      display: none;\n",
              "      fill: #1967D2;\n",
              "      height: 32px;\n",
              "      padding: 0 0 0 0;\n",
              "      width: 32px;\n",
              "    }\n",
              "\n",
              "    .colab-df-convert:hover {\n",
              "      background-color: #E2EBFA;\n",
              "      box-shadow: 0px 1px 2px rgba(60, 64, 67, 0.3), 0px 1px 3px 1px rgba(60, 64, 67, 0.15);\n",
              "      fill: #174EA6;\n",
              "    }\n",
              "\n",
              "    [theme=dark] .colab-df-convert {\n",
              "      background-color: #3B4455;\n",
              "      fill: #D2E3FC;\n",
              "    }\n",
              "\n",
              "    [theme=dark] .colab-df-convert:hover {\n",
              "      background-color: #434B5C;\n",
              "      box-shadow: 0px 1px 3px 1px rgba(0, 0, 0, 0.15);\n",
              "      filter: drop-shadow(0px 1px 2px rgba(0, 0, 0, 0.3));\n",
              "      fill: #FFFFFF;\n",
              "    }\n",
              "  </style>\n",
              "\n",
              "      <script>\n",
              "        const buttonEl =\n",
              "          document.querySelector('#df-473c1b4d-a700-4c01-b004-55a579b3c369 button.colab-df-convert');\n",
              "        buttonEl.style.display =\n",
              "          google.colab.kernel.accessAllowed ? 'block' : 'none';\n",
              "\n",
              "        async function convertToInteractive(key) {\n",
              "          const element = document.querySelector('#df-473c1b4d-a700-4c01-b004-55a579b3c369');\n",
              "          const dataTable =\n",
              "            await google.colab.kernel.invokeFunction('convertToInteractive',\n",
              "                                                     [key], {});\n",
              "          if (!dataTable) return;\n",
              "\n",
              "          const docLinkHtml = 'Like what you see? Visit the ' +\n",
              "            '<a target=\"_blank\" href=https://colab.research.google.com/notebooks/data_table.ipynb>data table notebook</a>'\n",
              "            + ' to learn more about interactive tables.';\n",
              "          element.innerHTML = '';\n",
              "          dataTable['output_type'] = 'display_data';\n",
              "          await google.colab.output.renderOutput(dataTable, element);\n",
              "          const docLink = document.createElement('div');\n",
              "          docLink.innerHTML = docLinkHtml;\n",
              "          element.appendChild(docLink);\n",
              "        }\n",
              "      </script>\n",
              "    </div>\n",
              "  </div>\n",
              "  "
            ]
          },
          "metadata": {},
          "execution_count": 6
        }
      ],
      "source": [
        "train.head(3)"
      ]
    },
    {
      "cell_type": "code",
      "execution_count": 7,
      "metadata": {
        "colab": {
          "base_uri": "https://localhost:8080/",
          "height": 0
        },
        "id": "RFQ0wCfhOhu1",
        "outputId": "bc5e3d3b-1335-46c7-c3a7-aaca8deb2d5d"
      },
      "outputs": [
        {
          "output_type": "execute_result",
          "data": {
            "text/plain": [
              "        ID                                              text\n",
              "0  2DDHQW9  barcha aaindou fiha hak w barcha teflim kadhalik\n",
              "1  5HY6UEY                              ye gernabou ye 9a7ba\n",
              "2  ATNVUJX                    saber w barra rabbi m3ak 5ouya"
            ],
            "text/html": [
              "\n",
              "  <div id=\"df-538a9213-f861-4497-b3d1-cf539ce66ad1\">\n",
              "    <div class=\"colab-df-container\">\n",
              "      <div>\n",
              "<style scoped>\n",
              "    .dataframe tbody tr th:only-of-type {\n",
              "        vertical-align: middle;\n",
              "    }\n",
              "\n",
              "    .dataframe tbody tr th {\n",
              "        vertical-align: top;\n",
              "    }\n",
              "\n",
              "    .dataframe thead th {\n",
              "        text-align: right;\n",
              "    }\n",
              "</style>\n",
              "<table border=\"1\" class=\"dataframe\">\n",
              "  <thead>\n",
              "    <tr style=\"text-align: right;\">\n",
              "      <th></th>\n",
              "      <th>ID</th>\n",
              "      <th>text</th>\n",
              "    </tr>\n",
              "  </thead>\n",
              "  <tbody>\n",
              "    <tr>\n",
              "      <th>0</th>\n",
              "      <td>2DDHQW9</td>\n",
              "      <td>barcha aaindou fiha hak w barcha teflim kadhalik</td>\n",
              "    </tr>\n",
              "    <tr>\n",
              "      <th>1</th>\n",
              "      <td>5HY6UEY</td>\n",
              "      <td>ye gernabou ye 9a7ba</td>\n",
              "    </tr>\n",
              "    <tr>\n",
              "      <th>2</th>\n",
              "      <td>ATNVUJX</td>\n",
              "      <td>saber w barra rabbi m3ak 5ouya</td>\n",
              "    </tr>\n",
              "  </tbody>\n",
              "</table>\n",
              "</div>\n",
              "      <button class=\"colab-df-convert\" onclick=\"convertToInteractive('df-538a9213-f861-4497-b3d1-cf539ce66ad1')\"\n",
              "              title=\"Convert this dataframe to an interactive table.\"\n",
              "              style=\"display:none;\">\n",
              "        \n",
              "  <svg xmlns=\"http://www.w3.org/2000/svg\" height=\"24px\"viewBox=\"0 0 24 24\"\n",
              "       width=\"24px\">\n",
              "    <path d=\"M0 0h24v24H0V0z\" fill=\"none\"/>\n",
              "    <path d=\"M18.56 5.44l.94 2.06.94-2.06 2.06-.94-2.06-.94-.94-2.06-.94 2.06-2.06.94zm-11 1L8.5 8.5l.94-2.06 2.06-.94-2.06-.94L8.5 2.5l-.94 2.06-2.06.94zm10 10l.94 2.06.94-2.06 2.06-.94-2.06-.94-.94-2.06-.94 2.06-2.06.94z\"/><path d=\"M17.41 7.96l-1.37-1.37c-.4-.4-.92-.59-1.43-.59-.52 0-1.04.2-1.43.59L10.3 9.45l-7.72 7.72c-.78.78-.78 2.05 0 2.83L4 21.41c.39.39.9.59 1.41.59.51 0 1.02-.2 1.41-.59l7.78-7.78 2.81-2.81c.8-.78.8-2.07 0-2.86zM5.41 20L4 18.59l7.72-7.72 1.47 1.35L5.41 20z\"/>\n",
              "  </svg>\n",
              "      </button>\n",
              "      \n",
              "  <style>\n",
              "    .colab-df-container {\n",
              "      display:flex;\n",
              "      flex-wrap:wrap;\n",
              "      gap: 12px;\n",
              "    }\n",
              "\n",
              "    .colab-df-convert {\n",
              "      background-color: #E8F0FE;\n",
              "      border: none;\n",
              "      border-radius: 50%;\n",
              "      cursor: pointer;\n",
              "      display: none;\n",
              "      fill: #1967D2;\n",
              "      height: 32px;\n",
              "      padding: 0 0 0 0;\n",
              "      width: 32px;\n",
              "    }\n",
              "\n",
              "    .colab-df-convert:hover {\n",
              "      background-color: #E2EBFA;\n",
              "      box-shadow: 0px 1px 2px rgba(60, 64, 67, 0.3), 0px 1px 3px 1px rgba(60, 64, 67, 0.15);\n",
              "      fill: #174EA6;\n",
              "    }\n",
              "\n",
              "    [theme=dark] .colab-df-convert {\n",
              "      background-color: #3B4455;\n",
              "      fill: #D2E3FC;\n",
              "    }\n",
              "\n",
              "    [theme=dark] .colab-df-convert:hover {\n",
              "      background-color: #434B5C;\n",
              "      box-shadow: 0px 1px 3px 1px rgba(0, 0, 0, 0.15);\n",
              "      filter: drop-shadow(0px 1px 2px rgba(0, 0, 0, 0.3));\n",
              "      fill: #FFFFFF;\n",
              "    }\n",
              "  </style>\n",
              "\n",
              "      <script>\n",
              "        const buttonEl =\n",
              "          document.querySelector('#df-538a9213-f861-4497-b3d1-cf539ce66ad1 button.colab-df-convert');\n",
              "        buttonEl.style.display =\n",
              "          google.colab.kernel.accessAllowed ? 'block' : 'none';\n",
              "\n",
              "        async function convertToInteractive(key) {\n",
              "          const element = document.querySelector('#df-538a9213-f861-4497-b3d1-cf539ce66ad1');\n",
              "          const dataTable =\n",
              "            await google.colab.kernel.invokeFunction('convertToInteractive',\n",
              "                                                     [key], {});\n",
              "          if (!dataTable) return;\n",
              "\n",
              "          const docLinkHtml = 'Like what you see? Visit the ' +\n",
              "            '<a target=\"_blank\" href=https://colab.research.google.com/notebooks/data_table.ipynb>data table notebook</a>'\n",
              "            + ' to learn more about interactive tables.';\n",
              "          element.innerHTML = '';\n",
              "          dataTable['output_type'] = 'display_data';\n",
              "          await google.colab.output.renderOutput(dataTable, element);\n",
              "          const docLink = document.createElement('div');\n",
              "          docLink.innerHTML = docLinkHtml;\n",
              "          element.appendChild(docLink);\n",
              "        }\n",
              "      </script>\n",
              "    </div>\n",
              "  </div>\n",
              "  "
            ]
          },
          "metadata": {},
          "execution_count": 7
        }
      ],
      "source": [
        "test.head(3)"
      ]
    },
    {
      "cell_type": "code",
      "execution_count": 8,
      "metadata": {
        "colab": {
          "base_uri": "https://localhost:8080/",
          "height": 0
        },
        "id": "k5Tf7hLaOrWa",
        "outputId": "7523bdb3-2d43-4656-c4cf-a67781279370"
      },
      "outputs": [
        {
          "output_type": "execute_result",
          "data": {
            "text/plain": [
              "        ID  label\n",
              "0  2DDHQW9      0\n",
              "1  5HY6UEY      0\n",
              "2  ATNVUJX      0"
            ],
            "text/html": [
              "\n",
              "  <div id=\"df-fb656b1e-85bb-4cce-a740-0abb6e71fa3a\">\n",
              "    <div class=\"colab-df-container\">\n",
              "      <div>\n",
              "<style scoped>\n",
              "    .dataframe tbody tr th:only-of-type {\n",
              "        vertical-align: middle;\n",
              "    }\n",
              "\n",
              "    .dataframe tbody tr th {\n",
              "        vertical-align: top;\n",
              "    }\n",
              "\n",
              "    .dataframe thead th {\n",
              "        text-align: right;\n",
              "    }\n",
              "</style>\n",
              "<table border=\"1\" class=\"dataframe\">\n",
              "  <thead>\n",
              "    <tr style=\"text-align: right;\">\n",
              "      <th></th>\n",
              "      <th>ID</th>\n",
              "      <th>label</th>\n",
              "    </tr>\n",
              "  </thead>\n",
              "  <tbody>\n",
              "    <tr>\n",
              "      <th>0</th>\n",
              "      <td>2DDHQW9</td>\n",
              "      <td>0</td>\n",
              "    </tr>\n",
              "    <tr>\n",
              "      <th>1</th>\n",
              "      <td>5HY6UEY</td>\n",
              "      <td>0</td>\n",
              "    </tr>\n",
              "    <tr>\n",
              "      <th>2</th>\n",
              "      <td>ATNVUJX</td>\n",
              "      <td>0</td>\n",
              "    </tr>\n",
              "  </tbody>\n",
              "</table>\n",
              "</div>\n",
              "      <button class=\"colab-df-convert\" onclick=\"convertToInteractive('df-fb656b1e-85bb-4cce-a740-0abb6e71fa3a')\"\n",
              "              title=\"Convert this dataframe to an interactive table.\"\n",
              "              style=\"display:none;\">\n",
              "        \n",
              "  <svg xmlns=\"http://www.w3.org/2000/svg\" height=\"24px\"viewBox=\"0 0 24 24\"\n",
              "       width=\"24px\">\n",
              "    <path d=\"M0 0h24v24H0V0z\" fill=\"none\"/>\n",
              "    <path d=\"M18.56 5.44l.94 2.06.94-2.06 2.06-.94-2.06-.94-.94-2.06-.94 2.06-2.06.94zm-11 1L8.5 8.5l.94-2.06 2.06-.94-2.06-.94L8.5 2.5l-.94 2.06-2.06.94zm10 10l.94 2.06.94-2.06 2.06-.94-2.06-.94-.94-2.06-.94 2.06-2.06.94z\"/><path d=\"M17.41 7.96l-1.37-1.37c-.4-.4-.92-.59-1.43-.59-.52 0-1.04.2-1.43.59L10.3 9.45l-7.72 7.72c-.78.78-.78 2.05 0 2.83L4 21.41c.39.39.9.59 1.41.59.51 0 1.02-.2 1.41-.59l7.78-7.78 2.81-2.81c.8-.78.8-2.07 0-2.86zM5.41 20L4 18.59l7.72-7.72 1.47 1.35L5.41 20z\"/>\n",
              "  </svg>\n",
              "      </button>\n",
              "      \n",
              "  <style>\n",
              "    .colab-df-container {\n",
              "      display:flex;\n",
              "      flex-wrap:wrap;\n",
              "      gap: 12px;\n",
              "    }\n",
              "\n",
              "    .colab-df-convert {\n",
              "      background-color: #E8F0FE;\n",
              "      border: none;\n",
              "      border-radius: 50%;\n",
              "      cursor: pointer;\n",
              "      display: none;\n",
              "      fill: #1967D2;\n",
              "      height: 32px;\n",
              "      padding: 0 0 0 0;\n",
              "      width: 32px;\n",
              "    }\n",
              "\n",
              "    .colab-df-convert:hover {\n",
              "      background-color: #E2EBFA;\n",
              "      box-shadow: 0px 1px 2px rgba(60, 64, 67, 0.3), 0px 1px 3px 1px rgba(60, 64, 67, 0.15);\n",
              "      fill: #174EA6;\n",
              "    }\n",
              "\n",
              "    [theme=dark] .colab-df-convert {\n",
              "      background-color: #3B4455;\n",
              "      fill: #D2E3FC;\n",
              "    }\n",
              "\n",
              "    [theme=dark] .colab-df-convert:hover {\n",
              "      background-color: #434B5C;\n",
              "      box-shadow: 0px 1px 3px 1px rgba(0, 0, 0, 0.15);\n",
              "      filter: drop-shadow(0px 1px 2px rgba(0, 0, 0, 0.3));\n",
              "      fill: #FFFFFF;\n",
              "    }\n",
              "  </style>\n",
              "\n",
              "      <script>\n",
              "        const buttonEl =\n",
              "          document.querySelector('#df-fb656b1e-85bb-4cce-a740-0abb6e71fa3a button.colab-df-convert');\n",
              "        buttonEl.style.display =\n",
              "          google.colab.kernel.accessAllowed ? 'block' : 'none';\n",
              "\n",
              "        async function convertToInteractive(key) {\n",
              "          const element = document.querySelector('#df-fb656b1e-85bb-4cce-a740-0abb6e71fa3a');\n",
              "          const dataTable =\n",
              "            await google.colab.kernel.invokeFunction('convertToInteractive',\n",
              "                                                     [key], {});\n",
              "          if (!dataTable) return;\n",
              "\n",
              "          const docLinkHtml = 'Like what you see? Visit the ' +\n",
              "            '<a target=\"_blank\" href=https://colab.research.google.com/notebooks/data_table.ipynb>data table notebook</a>'\n",
              "            + ' to learn more about interactive tables.';\n",
              "          element.innerHTML = '';\n",
              "          dataTable['output_type'] = 'display_data';\n",
              "          await google.colab.output.renderOutput(dataTable, element);\n",
              "          const docLink = document.createElement('div');\n",
              "          docLink.innerHTML = docLinkHtml;\n",
              "          element.appendChild(docLink);\n",
              "        }\n",
              "      </script>\n",
              "    </div>\n",
              "  </div>\n",
              "  "
            ]
          },
          "metadata": {},
          "execution_count": 8
        }
      ],
      "source": [
        "SampleSubmission.head(3)"
      ]
    },
    {
      "cell_type": "markdown",
      "metadata": {
        "id": "S25b4uitQBmc"
      },
      "source": [
        "## **Exploratory Data Analysis**"
      ]
    },
    {
      "cell_type": "code",
      "execution_count": 9,
      "metadata": {
        "colab": {
          "base_uri": "https://localhost:8080/"
        },
        "id": "mvJKNB2VQN1c",
        "outputId": "5b8504a3-4cad-4e6d-9a4a-84529e782b40"
      },
      "outputs": [
        {
          "output_type": "stream",
          "name": "stdout",
          "text": [
            "<class 'pandas.core.frame.DataFrame'>\n",
            "RangeIndex: 70000 entries, 0 to 69999\n",
            "Data columns (total 3 columns):\n",
            " #   Column  Non-Null Count  Dtype \n",
            "---  ------  --------------  ----- \n",
            " 0   ID      70000 non-null  object\n",
            " 1   text    70000 non-null  object\n",
            " 2   label   70000 non-null  int64 \n",
            "dtypes: int64(1), object(2)\n",
            "memory usage: 1.6+ MB\n"
          ]
        }
      ],
      "source": [
        "train.info()"
      ]
    },
    {
      "cell_type": "code",
      "execution_count": 10,
      "metadata": {
        "colab": {
          "base_uri": "https://localhost:8080/"
        },
        "id": "0WwD-SFwOvg_",
        "outputId": "17e5aab9-4b7b-4cfe-d168-37c073a08e52"
      },
      "outputs": [
        {
          "output_type": "execute_result",
          "data": {
            "text/plain": [
              "array([-1,  1,  0])"
            ]
          },
          "metadata": {},
          "execution_count": 10
        }
      ],
      "source": [
        "train['label'].unique()"
      ]
    },
    {
      "cell_type": "code",
      "execution_count": 11,
      "metadata": {
        "colab": {
          "base_uri": "https://localhost:8080/"
        },
        "id": "arPGYVmIaNdi",
        "outputId": "1760ff1a-e8a7-4464-f32f-3c0bb50d5665"
      },
      "outputs": [
        {
          "output_type": "execute_result",
          "data": {
            "text/plain": [
              " 1    38239\n",
              "-1    29295\n",
              " 0     2466\n",
              "Name: label, dtype: int64"
            ]
          },
          "metadata": {},
          "execution_count": 11
        }
      ],
      "source": [
        "train['label'].value_counts()"
      ]
    },
    {
      "cell_type": "code",
      "execution_count": 12,
      "metadata": {
        "colab": {
          "base_uri": "https://localhost:8080/",
          "height": 0
        },
        "id": "Ab19jMBBqUdu",
        "outputId": "6f2a81da-a9dd-46e4-ef7c-14c443794f5d"
      },
      "outputs": [
        {
          "output_type": "display_data",
          "data": {
            "text/plain": [
              "<Figure size 576x360 with 1 Axes>"
            ],
            "image/png": "[encoded data removed]"
          },
          "metadata": {}
        }
      ],
      "source": [
        "# Target variable distribution\n",
        "sns.set_style('darkgrid')\n",
        "plt.figure(figsize=(8, 5))\n",
        "sns.countplot(train[\"label\"])\n",
        "plt.title('Target variable distribution')\n",
        "plt.show()"
      ]
    },
    {
      "cell_type": "code",
      "execution_count": 13,
      "metadata": {
        "colab": {
          "base_uri": "https://localhost:8080/",
          "height": 0
        },
        "id": "2qdtB7AwO7Zr",
        "outputId": "887c2baa-aba3-4e4b-db79-071c091925b4"
      },
      "outputs": [
        {
          "output_type": "execute_result",
          "data": {
            "text/plain": [
              "'ya biz9a rak 5rit fih'"
            ],
            "application/vnd.google.colaboratory.intrinsic+json": {
              "type": "string"
            }
          },
          "metadata": {},
          "execution_count": 13
        }
      ],
      "source": [
        "#Checking the dataset randomly\n",
        "train['text'][np.random.randint(0, len(train))]"
      ]
    },
    {
      "cell_type": "code",
      "execution_count": 14,
      "metadata": {
        "colab": {
          "base_uri": "https://localhost:8080/"
        },
        "id": "W0K2qwY3PbEs",
        "outputId": "9a3299e1-b3ee-409f-dcfc-169aa8eacedd"
      },
      "outputs": [
        {
          "output_type": "execute_result",
          "data": {
            "text/plain": [
              "(0, 0)"
            ]
          },
          "metadata": {},
          "execution_count": 14
        }
      ],
      "source": [
        "train.isnull().sum().sum(), test.isnull().sum().sum()"
      ]
    },
    {
      "cell_type": "markdown",
      "metadata": {
        "id": "cGWY2PV5Q6HU"
      },
      "source": [
        "## **Dataset Preprocessing**"
      ]
    },
    {
      "cell_type": "code",
      "execution_count": 15,
      "metadata": {
        "id": "vEMN2JMGPx95"
      },
      "outputs": [],
      "source": [
        "punctuations = string.punctuation"
      ]
    },
    {
      "cell_type": "markdown",
      "metadata": {
        "id": "Rd6J1NOOVpUs"
      },
      "source": [
        "### **Bag of words**"
      ]
    },
    {
      "cell_type": "code",
      "execution_count": 16,
      "metadata": {
        "id": "KXFNbs5ST-0g"
      },
      "outputs": [],
      "source": [
        "sentiments = [x for x in train['text'].values]"
      ]
    },
    {
      "cell_type": "code",
      "execution_count": 17,
      "metadata": {
        "id": "Pjo7RioMEKGD"
      },
      "outputs": [],
      "source": [
        "stemmer = PorterStemmer()"
      ]
    },
    {
      "cell_type": "code",
      "execution_count": 18,
      "metadata": {
        "id": "wqldpHiZV98p"
      },
      "outputs": [],
      "source": [
        "def sentence_clean(sentence):\n",
        "  sentence_clean = re.sub(r'3sba+','3sba',sentence)\n",
        "  sentence_clean = re.sub(r'ha*h*\\w*j+','haj', sentence_clean) #haj\n",
        "  sentence_clean = re.sub(r'hhh*', 'hh', sentence_clean) #hhh\n",
        "  sentence_clean = re.sub(r'h+a[h|a]*', 'haa', sentence_clean) #hha haa hah\n",
        "  sentence_clean = re.sub(r'he+h*[h|e]*', 'heh', sentence_clean) #heh\n",
        "  sentence_clean = re.sub(r'bra+vo+', 'bravo', sentence_clean) #heh\n",
        "  sentence_clean = re.sub(r'caa+', 'caa', sentence_clean) #heh\n",
        "  sentence_clean = re.sub(r'cc*a+', 'ccaa', sentence_clean)\n",
        "  sentence_clean = re.sub(r'cc{1,3}', 'cc', sentence_clean)\n",
        "  sentence_clean = re.sub(r'cpr+', 'cpr', sentence_clean)\n",
        "  sentence_clean = re.sub(r'ctt*', 'ct', sentence_clean)\n",
        "  sentence_clean = re.sub(r'kkkk*', 'kkk', sentence_clean)\n",
        "  sentence_clean = re.sub(r'\\d+', '', sentence_clean)#Removing all digits in the sentences\n",
        "  sentence_clean = re.sub(r'\\s\\w{1}\\s',' ', sentence_clean)#Removing 1 word sentences\n",
        "  return sentence_clean\n",
        "  \n",
        "def Bag_of_words(sentiment_list):\n",
        "  Bag_of_Words = []\n",
        "  for sentiment in sentiment_list:\n",
        "    sentiment = sentence_clean(sentiment)\n",
        "    words = nltk.word_tokenize(sentiment)\n",
        "    for word in words:\n",
        "      Bag_of_Words.append(stemmer.stem(word))#Stemming the words before appending\n",
        "  return Bag_of_Words"
      ]
    },
    {
      "cell_type": "code",
      "execution_count": 19,
      "metadata": {
        "id": "gDk3wdIHcXky"
      },
      "outputs": [],
      "source": [
        "BagofWords = Bag_of_words(sentiments)\n",
        "\n",
        "BOW_series = pd.Series(BagofWords).value_counts()#Words value counts\n",
        "\n",
        "rm_words = BOW_series[BOW_series.values == 1].index#Words that appear just once. To be removed\n",
        "\n",
        "BagofWords = [w for w in BagofWords if w not in rm_words]"
      ]
    },
    {
      "cell_type": "code",
      "execution_count": 20,
      "metadata": {
        "colab": {
          "base_uri": "https://localhost:8080/"
        },
        "id": "oNsOrIsHj4_V",
        "outputId": "6bd2d079-c052-4681-b080-05fa2cf5c963"
      },
      "outputs": [
        {
          "output_type": "stream",
          "name": "stdout",
          "text": [
            "The Bag of word has a total of 563166 words with 37271 unique words\n"
          ]
        }
      ],
      "source": [
        "print(f\"The Bag of word has a total of {len(BagofWords)} words with {len(set(BagofWords))} unique words\")"
      ]
    },
    {
      "cell_type": "code",
      "execution_count": 21,
      "metadata": {
        "id": "7brACk4IWybb"
      },
      "outputs": [],
      "source": [
        "#Selecting the unique words from the bag of words\n",
        "BagofWords = list(set(BagofWords))\n",
        "#Removing stopwords\n",
        "BagofWords = [x for x in BagofWords if x not in punctuations]"
      ]
    },
    {
      "cell_type": "markdown",
      "metadata": {
        "id": "8Em5gU35aaXG"
      },
      "source": [
        "### **Sentiments based BOW**"
      ]
    },
    {
      "cell_type": "code",
      "execution_count": 22,
      "metadata": {
        "id": "Qg43wsIaZLVq"
      },
      "outputs": [],
      "source": [
        "negative_sentiment = [sentiments for sentiments in train['text'][train['label'].eq(-1)]]\n",
        "positive_sentiment = [sentiments for sentiments in train['text'][train['label'].eq(1)]]\n",
        "neutral_sentiment = [sentiments for sentiments in train['text'][train['label'].eq(0)]]\n",
        "\n",
        "negative_BOW = Bag_of_words(negative_sentiment)\n",
        "positive_BOW = Bag_of_words(positive_sentiment)\n",
        "neutral_BOW = Bag_of_words(neutral_sentiment)"
      ]
    },
    {
      "cell_type": "code",
      "execution_count": 23,
      "metadata": {
        "colab": {
          "base_uri": "https://localhost:8080/"
        },
        "id": "noKAh5nNbQ2W",
        "outputId": "4cccbd1b-5c01-499c-9277-764fda0179fb"
      },
      "outputs": [
        {
          "output_type": "execute_result",
          "data": {
            "text/plain": [
              "(349407, 284827, 17271, 37267)"
            ]
          },
          "metadata": {},
          "execution_count": 23
        }
      ],
      "source": [
        "len(negative_BOW), len(positive_BOW), len(neutral_BOW), len(BagofWords)"
      ]
    },
    {
      "cell_type": "code",
      "execution_count": 24,
      "metadata": {
        "id": "kA9CTc4T-GzH"
      },
      "outputs": [],
      "source": [
        "##[words for words in BagofWords if words[0] == 'm']"
      ]
    },
    {
      "cell_type": "markdown",
      "metadata": {
        "id": "VQwcfnjkgoiE"
      },
      "source": [
        "### **Word Frequency Dictionary**"
      ]
    },
    {
      "cell_type": "code",
      "execution_count": 25,
      "metadata": {
        "id": "O2bNs4yhcDKi"
      },
      "outputs": [],
      "source": [
        "def word_freq_dict(BOW_overall, bow_sent):\n",
        "  freq_dict = {}\n",
        "  for word in BOW_overall:\n",
        "    freq_dict[word] = 0\n",
        "    for sent_word in bow_sent:\n",
        "      if (word == sent_word):\n",
        "        freq_dict[word] += 1\n",
        "  return freq_dict"
      ]
    },
    {
      "cell_type": "code",
      "execution_count": 26,
      "metadata": {
        "id": "v1cQqVOPl1XN"
      },
      "outputs": [],
      "source": [
        "positive_wordfreq = word_freq_dict(BagofWords, positive_BOW)"
      ]
    },
    {
      "cell_type": "code",
      "execution_count": 27,
      "metadata": {
        "id": "0ju7qOcRpzaY"
      },
      "outputs": [],
      "source": [
        "negative_wordfreq = word_freq_dict(BagofWords, negative_BOW)\n",
        "neutral_wordfreq = word_freq_dict(BagofWords, neutral_BOW)"
      ]
    },
    {
      "cell_type": "code",
      "execution_count": 28,
      "metadata": {
        "colab": {
          "base_uri": "https://localhost:8080/"
        },
        "id": "rw1xLcvymPhe",
        "outputId": "40c0c38d-a5aa-4378-e06b-2dfb876ee214"
      },
      "outputs": [
        {
          "output_type": "execute_result",
          "data": {
            "text/plain": [
              "(37267, 37267, 37267, 37267)"
            ]
          },
          "metadata": {},
          "execution_count": 28
        }
      ],
      "source": [
        "len(BagofWords), len(positive_wordfreq), len(negative_wordfreq),len(neutral_wordfreq)"
      ]
    },
    {
      "cell_type": "code",
      "execution_count": 29,
      "metadata": {
        "id": "aaZDCNSHpSzA"
      },
      "outputs": [],
      "source": [
        "def sentiment_weight(sent_wordfreq, sentiment):\n",
        "  sentiment = sentence_clean(sentiment)\n",
        "  words = nltk.word_tokenize(sentiment)\n",
        "  words_clean = [stemmer.stem(word) for word in words]\n",
        "  weight = 0\n",
        "  for clean_word in words_clean:\n",
        "    weight += sent_wordfreq.get(clean_word, 0)\n",
        "  \n",
        "  return weight"
      ]
    },
    {
      "cell_type": "markdown",
      "metadata": {
        "id": "LSklN3VyszNT"
      },
      "source": [
        "### **Implementing the weights**"
      ]
    },
    {
      "cell_type": "code",
      "execution_count": 30,
      "metadata": {
        "id": "XifolPfkssbC"
      },
      "outputs": [],
      "source": [
        "train['Positive_weight'] = train['text'].apply(lambda x: sentiment_weight(positive_wordfreq, x))\n",
        "train['Negative_weight'] = train['text'].apply(lambda x: sentiment_weight(negative_wordfreq, x))\n",
        "train['Neutral_weight'] = train['text'].apply(lambda x: sentiment_weight(neutral_wordfreq, x))"
      ]
    },
    {
      "cell_type": "code",
      "execution_count": 31,
      "metadata": {
        "colab": {
          "base_uri": "https://localhost:8080/",
          "height": 0
        },
        "id": "SBEJoKnWsyIZ",
        "outputId": "f6c87f85-6630-481f-e390-95c7bf409ccb"
      },
      "outputs": [
        {
          "output_type": "execute_result",
          "data": {
            "text/plain": [
              "        ID                                               text  label  \\\n",
              "0  13P0QT0  3sbaaaaaaaaaaaaaaaaaaaa lek ou le seim riahi o...     -1   \n",
              "1  SKCLXCJ       cha3eb fey9elkoum menghir ta7ayoul ou kressi     -1   \n",
              "2  V1TVXIJ  bereau degage nathef ya slim walahi ya7chiw fi...     -1   \n",
              "3  U0TTYY8                                          ak slouma      1   \n",
              "4  68DX797  entom titmanou lina a7na 3iid moubarik a7na ch...     -1   \n",
              "\n",
              "   Positive_weight  Negative_weight  Neutral_weight  \n",
              "0             7615             7277             433  \n",
              "1             1075             1314              69  \n",
              "2            37277            37887            1893  \n",
              "3             1963              329              30  \n",
              "4             3926             3972             162  "
            ],
            "text/html": [
              "\n",
              "  <div id=\"df-2773fd95-5ca2-4af6-a096-dc842f73f60b\">\n",
              "    <div class=\"colab-df-container\">\n",
              "      <div>\n",
              "<style scoped>\n",
              "    .dataframe tbody tr th:only-of-type {\n",
              "        vertical-align: middle;\n",
              "    }\n",
              "\n",
              "    .dataframe tbody tr th {\n",
              "        vertical-align: top;\n",
              "    }\n",
              "\n",
              "    .dataframe thead th {\n",
              "        text-align: right;\n",
              "    }\n",
              "</style>\n",
              "<table border=\"1\" class=\"dataframe\">\n",
              "  <thead>\n",
              "    <tr style=\"text-align: right;\">\n",
              "      <th></th>\n",
              "      <th>ID</th>\n",
              "      <th>text</th>\n",
              "      <th>label</th>\n",
              "      <th>Positive_weight</th>\n",
              "      <th>Negative_weight</th>\n",
              "      <th>Neutral_weight</th>\n",
              "    </tr>\n",
              "  </thead>\n",
              "  <tbody>\n",
              "    <tr>\n",
              "      <th>0</th>\n",
              "      <td>13P0QT0</td>\n",
              "      <td>3sbaaaaaaaaaaaaaaaaaaaa lek ou le seim riahi o...</td>\n",
              "      <td>-1</td>\n",
              "      <td>7615</td>\n",
              "      <td>7277</td>\n",
              "      <td>433</td>\n",
              "    </tr>\n",
              "    <tr>\n",
              "      <th>1</th>\n",
              "      <td>SKCLXCJ</td>\n",
              "      <td>cha3eb fey9elkoum menghir ta7ayoul ou kressi</td>\n",
              "      <td>-1</td>\n",
              "      <td>1075</td>\n",
              "      <td>1314</td>\n",
              "      <td>69</td>\n",
              "    </tr>\n",
              "    <tr>\n",
              "      <th>2</th>\n",
              "      <td>V1TVXIJ</td>\n",
              "      <td>bereau degage nathef ya slim walahi ya7chiw fi...</td>\n",
              "      <td>-1</td>\n",
              "      <td>37277</td>\n",
              "      <td>37887</td>\n",
              "      <td>1893</td>\n",
              "    </tr>\n",
              "    <tr>\n",
              "      <th>3</th>\n",
              "      <td>U0TTYY8</td>\n",
              "      <td>ak slouma</td>\n",
              "      <td>1</td>\n",
              "      <td>1963</td>\n",
              "      <td>329</td>\n",
              "      <td>30</td>\n",
              "    </tr>\n",
              "    <tr>\n",
              "      <th>4</th>\n",
              "      <td>68DX797</td>\n",
              "      <td>entom titmanou lina a7na 3iid moubarik a7na ch...</td>\n",
              "      <td>-1</td>\n",
              "      <td>3926</td>\n",
              "      <td>3972</td>\n",
              "      <td>162</td>\n",
              "    </tr>\n",
              "  </tbody>\n",
              "</table>\n",
              "</div>\n",
              "      <button class=\"colab-df-convert\" onclick=\"convertToInteractive('df-2773fd95-5ca2-4af6-a096-dc842f73f60b')\"\n",
              "              title=\"Convert this dataframe to an interactive table.\"\n",
              "              style=\"display:none;\">\n",
              "        \n",
              "  <svg xmlns=\"http://www.w3.org/2000/svg\" height=\"24px\"viewBox=\"0 0 24 24\"\n",
              "       width=\"24px\">\n",
              "    <path d=\"M0 0h24v24H0V0z\" fill=\"none\"/>\n",
              "    <path d=\"M18.56 5.44l.94 2.06.94-2.06 2.06-.94-2.06-.94-.94-2.06-.94 2.06-2.06.94zm-11 1L8.5 8.5l.94-2.06 2.06-.94-2.06-.94L8.5 2.5l-.94 2.06-2.06.94zm10 10l.94 2.06.94-2.06 2.06-.94-2.06-.94-.94-2.06-.94 2.06-2.06.94z\"/><path d=\"M17.41 7.96l-1.37-1.37c-.4-.4-.92-.59-1.43-.59-.52 0-1.04.2-1.43.59L10.3 9.45l-7.72 7.72c-.78.78-.78 2.05 0 2.83L4 21.41c.39.39.9.59 1.41.59.51 0 1.02-.2 1.41-.59l7.78-7.78 2.81-2.81c.8-.78.8-2.07 0-2.86zM5.41 20L4 18.59l7.72-7.72 1.47 1.35L5.41 20z\"/>\n",
              "  </svg>\n",
              "      </button>\n",
              "      \n",
              "  <style>\n",
              "    .colab-df-container {\n",
              "      display:flex;\n",
              "      flex-wrap:wrap;\n",
              "      gap: 12px;\n",
              "    }\n",
              "\n",
              "    .colab-df-convert {\n",
              "      background-color: #E8F0FE;\n",
              "      border: none;\n",
              "      border-radius: 50%;\n",
              "      cursor: pointer;\n",
              "      display: none;\n",
              "      fill: #1967D2;\n",
              "      height: 32px;\n",
              "      padding: 0 0 0 0;\n",
              "      width: 32px;\n",
              "    }\n",
              "\n",
              "    .colab-df-convert:hover {\n",
              "      background-color: #E2EBFA;\n",
              "      box-shadow: 0px 1px 2px rgba(60, 64, 67, 0.3), 0px 1px 3px 1px rgba(60, 64, 67, 0.15);\n",
              "      fill: #174EA6;\n",
              "    }\n",
              "\n",
              "    [theme=dark] .colab-df-convert {\n",
              "      background-color: #3B4455;\n",
              "      fill: #D2E3FC;\n",
              "    }\n",
              "\n",
              "    [theme=dark] .colab-df-convert:hover {\n",
              "      background-color: #434B5C;\n",
              "      box-shadow: 0px 1px 3px 1px rgba(0, 0, 0, 0.15);\n",
              "      filter: drop-shadow(0px 1px 2px rgba(0, 0, 0, 0.3));\n",
              "      fill: #FFFFFF;\n",
              "    }\n",
              "  </style>\n",
              "\n",
              "      <script>\n",
              "        const buttonEl =\n",
              "          document.querySelector('#df-2773fd95-5ca2-4af6-a096-dc842f73f60b button.colab-df-convert');\n",
              "        buttonEl.style.display =\n",
              "          google.colab.kernel.accessAllowed ? 'block' : 'none';\n",
              "\n",
              "        async function convertToInteractive(key) {\n",
              "          const element = document.querySelector('#df-2773fd95-5ca2-4af6-a096-dc842f73f60b');\n",
              "          const dataTable =\n",
              "            await google.colab.kernel.invokeFunction('convertToInteractive',\n",
              "                                                     [key], {});\n",
              "          if (!dataTable) return;\n",
              "\n",
              "          const docLinkHtml = 'Like what you see? Visit the ' +\n",
              "            '<a target=\"_blank\" href=https://colab.research.google.com/notebooks/data_table.ipynb>data table notebook</a>'\n",
              "            + ' to learn more about interactive tables.';\n",
              "          element.innerHTML = '';\n",
              "          dataTable['output_type'] = 'display_data';\n",
              "          await google.colab.output.renderOutput(dataTable, element);\n",
              "          const docLink = document.createElement('div');\n",
              "          docLink.innerHTML = docLinkHtml;\n",
              "          element.appendChild(docLink);\n",
              "        }\n",
              "      </script>\n",
              "    </div>\n",
              "  </div>\n",
              "  "
            ]
          },
          "metadata": {},
          "execution_count": 31
        }
      ],
      "source": [
        "train.head()"
      ]
    },
    {
      "cell_type": "markdown",
      "metadata": {
        "id": "S_IF2_htFbbu"
      },
      "source": [
        "### **Implementing PCA for easy visualization**"
      ]
    },
    {
      "cell_type": "code",
      "execution_count": 32,
      "metadata": {
        "colab": {
          "base_uri": "https://localhost:8080/",
          "height": 0
        },
        "id": "Tuq8sgHuCnRO",
        "outputId": "b01e9218-aaeb-46e4-c3d2-bb8b34440954"
      },
      "outputs": [
        {
          "output_type": "display_data",
          "data": {
            "text/plain": [
              "<Figure size 1800x360 with 3 Axes>"
            ],
            "image/png": "[encoded data removed]"
          },
          "metadata": {}
        }
      ],
      "source": [
        "X = train[['Positive_weight','Negative_weight','Neutral_weight']]\n",
        "pca = PCA(n_components=2)\n",
        "X_pca = pca.fit_transform(X)\n",
        "X_pca = pd.DataFrame(X_pca, columns = ['feat1','feat2'])\n",
        "X_pca['label'] = train['label']\n",
        "\n",
        "fig, axis = plt.subplots(nrows = 1, ncols = 3, figsize = (25,5),sharey = True, sharex = True)\n",
        "axis[0].scatter(X_pca['feat1'][X_pca['label'].eq(0)],X_pca['feat2'][X_pca['label'].eq(0)],label = 'Neutral Sentiment', color = 'yellow')\n",
        "axis[1].scatter(X_pca['feat1'][X_pca['label'].eq(1)],X_pca['feat2'][X_pca['label'].eq(1)], label = 'Positive Sentiment',color = 'green')\n",
        "axis[2].scatter(X_pca['feat1'][X_pca['label'].eq(-1)],X_pca['feat2'][X_pca['label'].eq(-1)],label = 'Negative Sentiment',color = 'red')\n",
        "axis[0].legend(); axis[1].legend(); axis[2].legend()\n",
        "\n",
        "plt.show()"
      ]
    },
    {
      "cell_type": "markdown",
      "metadata": {
        "id": "TycEiksoT1ND"
      },
      "source": [
        "### **Transforming the test dataset**"
      ]
    },
    {
      "cell_type": "code",
      "execution_count": 33,
      "metadata": {
        "id": "_WJZLbI6Thah"
      },
      "outputs": [],
      "source": [
        "test['Positive_weight'] = test['text'].apply(lambda x: sentiment_weight(positive_wordfreq, x))\n",
        "test['Negative_weight'] = test['text'].apply(lambda x: sentiment_weight(negative_wordfreq, x))\n",
        "test['Neutral_weight'] = test['text'].apply(lambda x: sentiment_weight(neutral_wordfreq, x))"
      ]
    },
    {
      "cell_type": "code",
      "execution_count": 34,
      "metadata": {
        "colab": {
          "base_uri": "https://localhost:8080/",
          "height": 0
        },
        "id": "Wz_NCaZi9f1R",
        "outputId": "cde412ef-bb6b-4c1e-e100-889327447703"
      },
      "outputs": [
        {
          "output_type": "execute_result",
          "data": {
            "text/plain": [
              "        ID                                               text  \\\n",
              "0  2DDHQW9   barcha aaindou fiha hak w barcha teflim kadhalik   \n",
              "1  5HY6UEY                               ye gernabou ye 9a7ba   \n",
              "2  ATNVUJX                     saber w barra rabbi m3ak 5ouya   \n",
              "3  Q9XYVOQ               cha3ébbb ta7aaaaannnnnnnnnnn tfouuhh   \n",
              "4  TOAHLRH  rabi y5alihoulek w yfar7ek bih w inchallah itc...   \n",
              "\n",
              "   Positive_weight  Negative_weight  Neutral_weight  \n",
              "0             2071             1972              65  \n",
              "1             1117             1221              63  \n",
              "2             4257             1250              34  \n",
              "3                0                2               0  \n",
              "4             6630             2134              90  "
            ],
            "text/html": [
              "\n",
              "  <div id=\"df-abdc9d38-bb2e-4de6-b4d9-6f5bd8564000\">\n",
              "    <div class=\"colab-df-container\">\n",
              "      <div>\n",
              "<style scoped>\n",
              "    .dataframe tbody tr th:only-of-type {\n",
              "        vertical-align: middle;\n",
              "    }\n",
              "\n",
              "    .dataframe tbody tr th {\n",
              "        vertical-align: top;\n",
              "    }\n",
              "\n",
              "    .dataframe thead th {\n",
              "        text-align: right;\n",
              "    }\n",
              "</style>\n",
              "<table border=\"1\" class=\"dataframe\">\n",
              "  <thead>\n",
              "    <tr style=\"text-align: right;\">\n",
              "      <th></th>\n",
              "      <th>ID</th>\n",
              "      <th>text</th>\n",
              "      <th>Positive_weight</th>\n",
              "      <th>Negative_weight</th>\n",
              "      <th>Neutral_weight</th>\n",
              "    </tr>\n",
              "  </thead>\n",
              "  <tbody>\n",
              "    <tr>\n",
              "      <th>0</th>\n",
              "      <td>2DDHQW9</td>\n",
              "      <td>barcha aaindou fiha hak w barcha teflim kadhalik</td>\n",
              "      <td>2071</td>\n",
              "      <td>1972</td>\n",
              "      <td>65</td>\n",
              "    </tr>\n",
              "    <tr>\n",
              "      <th>1</th>\n",
              "      <td>5HY6UEY</td>\n",
              "      <td>ye gernabou ye 9a7ba</td>\n",
              "      <td>1117</td>\n",
              "      <td>1221</td>\n",
              "      <td>63</td>\n",
              "    </tr>\n",
              "    <tr>\n",
              "      <th>2</th>\n",
              "      <td>ATNVUJX</td>\n",
              "      <td>saber w barra rabbi m3ak 5ouya</td>\n",
              "      <td>4257</td>\n",
              "      <td>1250</td>\n",
              "      <td>34</td>\n",
              "    </tr>\n",
              "    <tr>\n",
              "      <th>3</th>\n",
              "      <td>Q9XYVOQ</td>\n",
              "      <td>cha3ébbb ta7aaaaannnnnnnnnnn tfouuhh</td>\n",
              "      <td>0</td>\n",
              "      <td>2</td>\n",
              "      <td>0</td>\n",
              "    </tr>\n",
              "    <tr>\n",
              "      <th>4</th>\n",
              "      <td>TOAHLRH</td>\n",
              "      <td>rabi y5alihoulek w yfar7ek bih w inchallah itc...</td>\n",
              "      <td>6630</td>\n",
              "      <td>2134</td>\n",
              "      <td>90</td>\n",
              "    </tr>\n",
              "  </tbody>\n",
              "</table>\n",
              "</div>\n",
              "      <button class=\"colab-df-convert\" onclick=\"convertToInteractive('df-abdc9d38-bb2e-4de6-b4d9-6f5bd8564000')\"\n",
              "              title=\"Convert this dataframe to an interactive table.\"\n",
              "              style=\"display:none;\">\n",
              "        \n",
              "  <svg xmlns=\"http://www.w3.org/2000/svg\" height=\"24px\"viewBox=\"0 0 24 24\"\n",
              "       width=\"24px\">\n",
              "    <path d=\"M0 0h24v24H0V0z\" fill=\"none\"/>\n",
              "    <path d=\"M18.56 5.44l.94 2.06.94-2.06 2.06-.94-2.06-.94-.94-2.06-.94 2.06-2.06.94zm-11 1L8.5 8.5l.94-2.06 2.06-.94-2.06-.94L8.5 2.5l-.94 2.06-2.06.94zm10 10l.94 2.06.94-2.06 2.06-.94-2.06-.94-.94-2.06-.94 2.06-2.06.94z\"/><path d=\"M17.41 7.96l-1.37-1.37c-.4-.4-.92-.59-1.43-.59-.52 0-1.04.2-1.43.59L10.3 9.45l-7.72 7.72c-.78.78-.78 2.05 0 2.83L4 21.41c.39.39.9.59 1.41.59.51 0 1.02-.2 1.41-.59l7.78-7.78 2.81-2.81c.8-.78.8-2.07 0-2.86zM5.41 20L4 18.59l7.72-7.72 1.47 1.35L5.41 20z\"/>\n",
              "  </svg>\n",
              "      </button>\n",
              "      \n",
              "  <style>\n",
              "    .colab-df-container {\n",
              "      display:flex;\n",
              "      flex-wrap:wrap;\n",
              "      gap: 12px;\n",
              "    }\n",
              "\n",
              "    .colab-df-convert {\n",
              "      background-color: #E8F0FE;\n",
              "      border: none;\n",
              "      border-radius: 50%;\n",
              "      cursor: pointer;\n",
              "      display: none;\n",
              "      fill: #1967D2;\n",
              "      height: 32px;\n",
              "      padding: 0 0 0 0;\n",
              "      width: 32px;\n",
              "    }\n",
              "\n",
              "    .colab-df-convert:hover {\n",
              "      background-color: #E2EBFA;\n",
              "      box-shadow: 0px 1px 2px rgba(60, 64, 67, 0.3), 0px 1px 3px 1px rgba(60, 64, 67, 0.15);\n",
              "      fill: #174EA6;\n",
              "    }\n",
              "\n",
              "    [theme=dark] .colab-df-convert {\n",
              "      background-color: #3B4455;\n",
              "      fill: #D2E3FC;\n",
              "    }\n",
              "\n",
              "    [theme=dark] .colab-df-convert:hover {\n",
              "      background-color: #434B5C;\n",
              "      box-shadow: 0px 1px 3px 1px rgba(0, 0, 0, 0.15);\n",
              "      filter: drop-shadow(0px 1px 2px rgba(0, 0, 0, 0.3));\n",
              "      fill: #FFFFFF;\n",
              "    }\n",
              "  </style>\n",
              "\n",
              "      <script>\n",
              "        const buttonEl =\n",
              "          document.querySelector('#df-abdc9d38-bb2e-4de6-b4d9-6f5bd8564000 button.colab-df-convert');\n",
              "        buttonEl.style.display =\n",
              "          google.colab.kernel.accessAllowed ? 'block' : 'none';\n",
              "\n",
              "        async function convertToInteractive(key) {\n",
              "          const element = document.querySelector('#df-abdc9d38-bb2e-4de6-b4d9-6f5bd8564000');\n",
              "          const dataTable =\n",
              "            await google.colab.kernel.invokeFunction('convertToInteractive',\n",
              "                                                     [key], {});\n",
              "          if (!dataTable) return;\n",
              "\n",
              "          const docLinkHtml = 'Like what you see? Visit the ' +\n",
              "            '<a target=\"_blank\" href=https://colab.research.google.com/notebooks/data_table.ipynb>data table notebook</a>'\n",
              "            + ' to learn more about interactive tables.';\n",
              "          element.innerHTML = '';\n",
              "          dataTable['output_type'] = 'display_data';\n",
              "          await google.colab.output.renderOutput(dataTable, element);\n",
              "          const docLink = document.createElement('div');\n",
              "          docLink.innerHTML = docLinkHtml;\n",
              "          element.appendChild(docLink);\n",
              "        }\n",
              "      </script>\n",
              "    </div>\n",
              "  </div>\n",
              "  "
            ]
          },
          "metadata": {},
          "execution_count": 34
        }
      ],
      "source": [
        "test.head()"
      ]
    },
    {
      "cell_type": "markdown",
      "metadata": {
        "id": "POJQf4CpIZI5"
      },
      "source": [
        "### **Feature Engineering**"
      ]
    },
    {
      "cell_type": "code",
      "execution_count": 35,
      "metadata": {
        "id": "d-8J0U8LIvH2"
      },
      "outputs": [],
      "source": [
        "X = train[['Positive_weight','Negative_weight','Neutral_weight']]\n",
        "y = train['label']\n",
        "X_test = test[['Positive_weight','Negative_weight','Neutral_weight']]"
      ]
    },
    {
      "cell_type": "markdown",
      "metadata": {
        "id": "t62AKaIurHmO"
      },
      "source": [
        "#### **PolynomialFeatures**"
      ]
    },
    {
      "cell_type": "code",
      "execution_count": 36,
      "metadata": {
        "id": "Y8d2DQjeIvOG"
      },
      "outputs": [],
      "source": [
        "poly_feat = PolynomialFeatures(interaction_only = True, degree = 2)\n",
        "poly_feat.fit(X)\n",
        "poly_train = poly_feat.transform(X)\n",
        "poly_test = poly_feat.transform(X_test)\n",
        "\n",
        "col = [f'PolyFeat_{n}' for n in range(poly_train.shape[1])]\n",
        "\n",
        "poly_train = pd.DataFrame(poly_train, columns = col).drop('PolyFeat_0', axis = 1)\n",
        "poly_test = pd.DataFrame(poly_test, columns = col).drop('PolyFeat_0', axis = 1)\n",
        "\n",
        "for column in col[1:]:\n",
        "  X[column] = poly_train[column]\n",
        "  X_test[column] = poly_test[column]"
      ]
    },
    {
      "cell_type": "markdown",
      "metadata": {
        "id": "L2HiZ-mPrL9W"
      },
      "source": [
        "#### **Feature Tweaking**"
      ]
    },
    {
      "cell_type": "code",
      "execution_count": 37,
      "metadata": {
        "id": "EzoxD2hGrbSZ"
      },
      "outputs": [],
      "source": [
        "X['diff_1'] = (X['Positive_weight'] - X['Negative_weight']).abs()\n",
        "X['diff_2'] = (X['Positive_weight'] - X['Neutral_weight']).abs()\n",
        "X['diff_3'] = (X['Negative_weight'] - X['Neutral_weight']).abs()\n",
        "X['SD'] = X[['Positive_weight','Negative_weight','Neutral_weight']].std(axis =1)\n",
        "X['Mean'] = X[['Positive_weight','Negative_weight','Neutral_weight']].mean(axis =1)\n",
        "\n",
        "#Test dataset\n",
        "X_test['diff_1'] = (X_test['Positive_weight'] - X_test['Negative_weight']).abs()\n",
        "X_test['diff_2'] = (X_test['Positive_weight'] - X_test['Neutral_weight']).abs()\n",
        "X_test['diff_3'] = (X_test['Negative_weight'] - X_test['Neutral_weight']).abs()\n",
        "X_test['SD'] = X_test[['Positive_weight','Negative_weight','Neutral_weight']].std(axis =1)\n",
        "X_test['Mean'] = X_test[['Positive_weight','Negative_weight','Neutral_weight']].mean(axis =1)"
      ]
    },
    {
      "cell_type": "markdown",
      "metadata": {
        "id": "kOiEX_4YsQ4k"
      },
      "source": [
        "#### **Rolling Mean, Min and Max**"
      ]
    },
    {
      "cell_type": "code",
      "execution_count": 38,
      "metadata": {
        "id": "stJBG7BsoTUx"
      },
      "outputs": [],
      "source": [
        "##Rolling Mean\n",
        "X['PW_rolling_mean_3'] = X['Positive_weight'].rolling(3).mean()\n",
        "X['PW_rolling_mean_5'] = X['Positive_weight'].rolling(5).mean()\n",
        "X['NG_rolling_mean_3'] = X['Negative_weight'].rolling(3).mean()\n",
        "X['NG_rolling_mean_5'] = X['Negative_weight'].rolling(5).mean()\n",
        "X['NU_rolling_mean_3'] = X['Neutral_weight'].rolling(3).mean()\n",
        "X['NU_rolling_mean_5'] = X['Neutral_weight'].rolling(5).mean()\n",
        "\n",
        "X_test['PW_rolling_mean_3'] = X_test['Positive_weight'].rolling(3).mean()\n",
        "X_test['PW_rolling_mean_5'] = X_test['Positive_weight'].rolling(5).mean()\n",
        "X_test['NG_rolling_mean_3'] = X_test['Negative_weight'].rolling(3).mean()\n",
        "X_test['NG_rolling_mean_5'] = X_test['Negative_weight'].rolling(5).mean()\n",
        "X_test['NU_rolling_mean_3'] = X_test['Neutral_weight'].rolling(3).mean()\n",
        "X_test['NU_rolling_mean_5'] = X_test['Neutral_weight'].rolling(5).mean()\n",
        "\n",
        "##Rolling Min\n",
        "X['PW_rolling_min_3'] = X['Positive_weight'].rolling(3).min()\n",
        "X['PW_rolling_min_5'] = X['Positive_weight'].rolling(5).min()\n",
        "X['NG_rolling_min_3'] = X['Negative_weight'].rolling(3).min()\n",
        "X['NG_rolling_min_5'] = X['Negative_weight'].rolling(5).min()\n",
        "X['NU_rolling_min_3'] = X['Neutral_weight'].rolling(3).min()\n",
        "X['NU_rolling_min_5'] = X['Neutral_weight'].rolling(5).min()\n",
        "\n",
        "X_test['PW_rolling_min_3'] = X_test['Positive_weight'].rolling(3).min()\n",
        "X_test['PW_rolling_min_5'] = X_test['Positive_weight'].rolling(5).min()\n",
        "X_test['NG_rolling_min_3'] = X_test['Negative_weight'].rolling(3).min()\n",
        "X_test['NG_rolling_min_5'] = X_test['Negative_weight'].rolling(5).min()\n",
        "X_test['NU_rolling_min_3'] = X_test['Neutral_weight'].rolling(3).min()\n",
        "X_test['NU_rolling_min_5'] = X_test['Neutral_weight'].rolling(5).min()\n",
        "\n",
        "##Rolling Max\n",
        "X['PW_rolling_max_3'] = X['Positive_weight'].rolling(3).max()\n",
        "X['PW_rolling_max_5'] = X['Positive_weight'].rolling(5).max()\n",
        "X['NG_rolling_max_3'] = X['Negative_weight'].rolling(3).max()\n",
        "X['NG_rolling_max_5'] = X['Negative_weight'].rolling(5).max()\n",
        "X['NU_rolling_max_3'] = X['Neutral_weight'].rolling(3).max()\n",
        "X['NU_rolling_max_5'] = X['Neutral_weight'].rolling(5).max()\n",
        "\n",
        "X_test['PW_rolling_max_3'] = X_test['Positive_weight'].rolling(3).max()\n",
        "X_test['PW_rolling_max_5'] = X_test['Positive_weight'].rolling(5).max()\n",
        "X_test['NG_rolling_max_3'] = X_test['Negative_weight'].rolling(3).max()\n",
        "X_test['NG_rolling_max_5'] = X_test['Negative_weight'].rolling(5).max()\n",
        "X_test['NU_rolling_max_3'] = X_test['Neutral_weight'].rolling(3).max()\n",
        "X_test['NU_rolling_max_5'] = X_test['Neutral_weight'].rolling(5).max()\n",
        "\n",
        "#Filling missing values with large value\n",
        "X = X.fillna(-999999999)\n",
        "X_test = X_test.fillna(-999999999)"
      ]
    },
    {
      "cell_type": "markdown",
      "metadata": {
        "id": "AzRi5CwKu5--"
      },
      "source": [
        "### **CatBoosst Model**"
      ]
    },
    {
      "cell_type": "code",
      "execution_count": 43,
      "metadata": {
        "colab": {
          "base_uri": "https://localhost:8080/"
        },
        "id": "QxqfMat7u9vX",
        "outputId": "a3fbb46b-704f-4268-e7d5-075e29d7b68a"
      },
      "outputs": [
        {
          "output_type": "stream",
          "name": "stderr",
          "text": [
            "Warning: Overfitting detector is active, thus evaluation metric is calculated on every iteration. 'metric_period' is ignored for evaluation metric.\n"
          ]
        },
        {
          "output_type": "stream",
          "name": "stdout",
          "text": [
            "0:\tlearn: 0.6030635\ttest: 0.6030635\ttest1: 0.6055714\tbest: 0.6055714 (0)\ttotal: 137ms\tremaining: 1m 49s\n",
            "100:\tlearn: 0.7523333\ttest: 0.7523333\ttest1: 0.7368571\tbest: 0.7370000 (97)\ttotal: 13.7s\tremaining: 1m 35s\n",
            "200:\tlearn: 0.7756349\ttest: 0.7756349\ttest1: 0.7378571\tbest: 0.7407143 (153)\ttotal: 26.9s\tremaining: 1m 20s\n",
            "300:\tlearn: 0.7979048\ttest: 0.7979048\ttest1: 0.7338571\tbest: 0.7407143 (153)\ttotal: 40.8s\tremaining: 1m 7s\n",
            "Stopped by overfitting detector  (200 iterations wait)\n",
            "\n",
            "bestTest = 0.7407142857\n",
            "bestIteration = 153\n",
            "\n",
            "Shrink model to first 154 iterations.\n",
            "**********Epoch : 1*********\n",
            "Train score : 0.7645079365079365\n",
            "Test score : 0.7407142857142858\n",
            "\n"
          ]
        },
        {
          "output_type": "stream",
          "name": "stderr",
          "text": [
            "Warning: Overfitting detector is active, thus evaluation metric is calculated on every iteration. 'metric_period' is ignored for evaluation metric.\n"
          ]
        },
        {
          "output_type": "stream",
          "name": "stdout",
          "text": [
            "0:\tlearn: 0.6090952\ttest: 0.6090952\ttest1: 0.6130000\tbest: 0.6130000 (0)\ttotal: 135ms\tremaining: 1m 47s\n",
            "100:\tlearn: 0.7543968\ttest: 0.7543968\ttest1: 0.7310000\tbest: 0.7310000 (100)\ttotal: 13.4s\tremaining: 1m 32s\n",
            "200:\tlearn: 0.7772698\ttest: 0.7772698\ttest1: 0.7350000\tbest: 0.7387143 (158)\ttotal: 26.6s\tremaining: 1m 19s\n",
            "300:\tlearn: 0.7992857\ttest: 0.7992857\ttest1: 0.7367143\tbest: 0.7388571 (292)\ttotal: 39.9s\tremaining: 1m 6s\n",
            "400:\tlearn: 0.8191587\ttest: 0.8191587\ttest1: 0.7371429\tbest: 0.7404286 (370)\ttotal: 53.1s\tremaining: 52.9s\n",
            "500:\tlearn: 0.8378254\ttest: 0.8378254\ttest1: 0.7342857\tbest: 0.7404286 (370)\ttotal: 1m 6s\tremaining: 39.7s\n",
            "Stopped by overfitting detector  (200 iterations wait)\n",
            "\n",
            "bestTest = 0.7404285714\n",
            "bestIteration = 370\n",
            "\n",
            "Shrink model to first 371 iterations.\n",
            "**********Epoch : 2*********\n",
            "Train score : 0.8138095238095238\n",
            "Test score : 0.7404285714285714\n",
            "\n"
          ]
        },
        {
          "output_type": "stream",
          "name": "stderr",
          "text": [
            "Warning: Overfitting detector is active, thus evaluation metric is calculated on every iteration. 'metric_period' is ignored for evaluation metric.\n"
          ]
        },
        {
          "output_type": "stream",
          "name": "stdout",
          "text": [
            "0:\tlearn: 0.6023492\ttest: 0.6023492\ttest1: 0.6124286\tbest: 0.6124286 (0)\ttotal: 137ms\tremaining: 1m 49s\n",
            "100:\tlearn: 0.7531746\ttest: 0.7531746\ttest1: 0.7401429\tbest: 0.7402857 (98)\ttotal: 13.3s\tremaining: 1m 31s\n",
            "200:\tlearn: 0.7776508\ttest: 0.7776508\ttest1: 0.7385714\tbest: 0.7424286 (112)\ttotal: 26.5s\tremaining: 1m 19s\n",
            "300:\tlearn: 0.7981270\ttest: 0.7981270\ttest1: 0.7344286\tbest: 0.7424286 (112)\ttotal: 40s\tremaining: 1m 6s\n",
            "Stopped by overfitting detector  (200 iterations wait)\n",
            "\n",
            "bestTest = 0.7424285714\n",
            "bestIteration = 112\n",
            "\n",
            "Shrink model to first 113 iterations.\n",
            "**********Epoch : 3*********\n",
            "Train score : 0.7552539682539683\n",
            "Test score : 0.7424285714285714\n",
            "\n"
          ]
        },
        {
          "output_type": "stream",
          "name": "stderr",
          "text": [
            "Warning: Overfitting detector is active, thus evaluation metric is calculated on every iteration. 'metric_period' is ignored for evaluation metric.\n"
          ]
        },
        {
          "output_type": "stream",
          "name": "stdout",
          "text": [
            "0:\tlearn: 0.6332698\ttest: 0.6332698\ttest1: 0.6267143\tbest: 0.6267143 (0)\ttotal: 293ms\tremaining: 3m 53s\n",
            "100:\tlearn: 0.7523651\ttest: 0.7523651\ttest1: 0.7331429\tbest: 0.7341429 (92)\ttotal: 29.4s\tremaining: 3m 23s\n",
            "200:\tlearn: 0.7758413\ttest: 0.7758413\ttest1: 0.7275714\tbest: 0.7341429 (92)\ttotal: 45.2s\tremaining: 2m 14s\n",
            "Stopped by overfitting detector  (200 iterations wait)\n",
            "\n",
            "bestTest = 0.7341428571\n",
            "bestIteration = 92\n",
            "\n",
            "Shrink model to first 93 iterations.\n",
            "**********Epoch : 4*********\n",
            "Train score : 0.7504285714285714\n",
            "Test score : 0.7341428571428571\n",
            "\n"
          ]
        },
        {
          "output_type": "stream",
          "name": "stderr",
          "text": [
            "Warning: Overfitting detector is active, thus evaluation metric is calculated on every iteration. 'metric_period' is ignored for evaluation metric.\n"
          ]
        },
        {
          "output_type": "stream",
          "name": "stdout",
          "text": [
            "0:\tlearn: 0.6058571\ttest: 0.6058571\ttest1: 0.5968571\tbest: 0.5968571 (0)\ttotal: 139ms\tremaining: 1m 51s\n",
            "100:\tlearn: 0.7536032\ttest: 0.7536032\ttest1: 0.7317143\tbest: 0.7321429 (86)\ttotal: 13.3s\tremaining: 1m 32s\n",
            "200:\tlearn: 0.7770794\ttest: 0.7770794\ttest1: 0.7338571\tbest: 0.7342857 (144)\ttotal: 26.6s\tremaining: 1m 19s\n",
            "300:\tlearn: 0.7997302\ttest: 0.7997302\ttest1: 0.7298571\tbest: 0.7342857 (144)\ttotal: 39.9s\tremaining: 1m 6s\n",
            "Stopped by overfitting detector  (200 iterations wait)\n",
            "\n",
            "bestTest = 0.7342857143\n",
            "bestIteration = 144\n",
            "\n",
            "Shrink model to first 145 iterations.\n",
            "**********Epoch : 5*********\n",
            "Train score : 0.7641587301587301\n",
            "Test score : 0.7342857142857143\n",
            "\n"
          ]
        },
        {
          "output_type": "stream",
          "name": "stderr",
          "text": [
            "Warning: Overfitting detector is active, thus evaluation metric is calculated on every iteration. 'metric_period' is ignored for evaluation metric.\n"
          ]
        },
        {
          "output_type": "stream",
          "name": "stdout",
          "text": [
            "0:\tlearn: 0.6252540\ttest: 0.6252540\ttest1: 0.6281429\tbest: 0.6281429 (0)\ttotal: 138ms\tremaining: 1m 50s\n",
            "100:\tlearn: 0.7543968\ttest: 0.7543968\ttest1: 0.7380000\tbest: 0.7380000 (100)\ttotal: 16s\tremaining: 1m 50s\n",
            "200:\tlearn: 0.7765079\ttest: 0.7765079\ttest1: 0.7357143\tbest: 0.7395714 (104)\ttotal: 29.3s\tremaining: 1m 27s\n",
            "300:\tlearn: 0.7976667\ttest: 0.7976667\ttest1: 0.7324286\tbest: 0.7395714 (104)\ttotal: 42.6s\tremaining: 1m 10s\n",
            "Stopped by overfitting detector  (200 iterations wait)\n",
            "\n",
            "bestTest = 0.7395714286\n",
            "bestIteration = 104\n",
            "\n",
            "Shrink model to first 105 iterations.\n",
            "**********Epoch : 6*********\n",
            "Train score : 0.7552539682539683\n",
            "Test score : 0.7395714285714285\n",
            "\n"
          ]
        },
        {
          "output_type": "stream",
          "name": "stderr",
          "text": [
            "Warning: Overfitting detector is active, thus evaluation metric is calculated on every iteration. 'metric_period' is ignored for evaluation metric.\n"
          ]
        },
        {
          "output_type": "stream",
          "name": "stdout",
          "text": [
            "0:\tlearn: 0.6129365\ttest: 0.6129365\ttest1: 0.6104286\tbest: 0.6104286 (0)\ttotal: 137ms\tremaining: 1m 49s\n",
            "100:\tlearn: 0.7517937\ttest: 0.7517937\ttest1: 0.7454286\tbest: 0.7464286 (81)\ttotal: 13.3s\tremaining: 1m 32s\n",
            "200:\tlearn: 0.7782857\ttest: 0.7782857\ttest1: 0.7411429\tbest: 0.7464286 (81)\ttotal: 27.8s\tremaining: 1m 22s\n",
            "Stopped by overfitting detector  (200 iterations wait)\n",
            "\n",
            "bestTest = 0.7464285714\n",
            "bestIteration = 81\n",
            "\n",
            "Shrink model to first 82 iterations.\n",
            "**********Epoch : 7*********\n",
            "Train score : 0.7458888888888889\n",
            "Test score : 0.7464285714285714\n",
            "\n"
          ]
        },
        {
          "output_type": "stream",
          "name": "stderr",
          "text": [
            "Warning: Overfitting detector is active, thus evaluation metric is calculated on every iteration. 'metric_period' is ignored for evaluation metric.\n"
          ]
        },
        {
          "output_type": "stream",
          "name": "stdout",
          "text": [
            "0:\tlearn: 0.6139524\ttest: 0.6139524\ttest1: 0.6102857\tbest: 0.6102857 (0)\ttotal: 137ms\tremaining: 1m 49s\n",
            "100:\tlearn: 0.7524286\ttest: 0.7524286\ttest1: 0.7328571\tbest: 0.7334286 (78)\ttotal: 13.3s\tremaining: 1m 31s\n",
            "200:\tlearn: 0.7764127\ttest: 0.7764127\ttest1: 0.7348571\tbest: 0.7362857 (166)\ttotal: 26.5s\tremaining: 1m 18s\n",
            "300:\tlearn: 0.7968571\ttest: 0.7968571\ttest1: 0.7314286\tbest: 0.7362857 (166)\ttotal: 39.7s\tremaining: 1m 5s\n",
            "Stopped by overfitting detector  (200 iterations wait)\n",
            "\n",
            "bestTest = 0.7362857143\n",
            "bestIteration = 166\n",
            "\n",
            "Shrink model to first 167 iterations.\n",
            "**********Epoch : 8*********\n",
            "Train score : 0.7685238095238095\n",
            "Test score : 0.7362857142857143\n",
            "\n"
          ]
        },
        {
          "output_type": "stream",
          "name": "stderr",
          "text": [
            "Warning: Overfitting detector is active, thus evaluation metric is calculated on every iteration. 'metric_period' is ignored for evaluation metric.\n"
          ]
        },
        {
          "output_type": "stream",
          "name": "stdout",
          "text": [
            "0:\tlearn: 0.6080794\ttest: 0.6080794\ttest1: 0.6161429\tbest: 0.6161429 (0)\ttotal: 136ms\tremaining: 1m 48s\n",
            "100:\tlearn: 0.7533651\ttest: 0.7533651\ttest1: 0.7352857\tbest: 0.7352857 (100)\ttotal: 13.3s\tremaining: 1m 31s\n",
            "200:\tlearn: 0.7792222\ttest: 0.7792222\ttest1: 0.7358571\tbest: 0.7385714 (187)\ttotal: 26.5s\tremaining: 1m 18s\n",
            "300:\tlearn: 0.8005079\ttest: 0.8005079\ttest1: 0.7327143\tbest: 0.7385714 (187)\ttotal: 39.8s\tremaining: 1m 6s\n",
            "Stopped by overfitting detector  (200 iterations wait)\n",
            "\n",
            "bestTest = 0.7385714286\n",
            "bestIteration = 187\n",
            "\n",
            "Shrink model to first 188 iterations.\n",
            "**********Epoch : 9*********\n",
            "Train score : 0.7761904761904762\n",
            "Test score : 0.7385714285714285\n",
            "\n"
          ]
        },
        {
          "output_type": "stream",
          "name": "stderr",
          "text": [
            "Warning: Overfitting detector is active, thus evaluation metric is calculated on every iteration. 'metric_period' is ignored for evaluation metric.\n"
          ]
        },
        {
          "output_type": "stream",
          "name": "stdout",
          "text": [
            "0:\tlearn: 0.6088889\ttest: 0.6088889\ttest1: 0.5967143\tbest: 0.5967143 (0)\ttotal: 138ms\tremaining: 1m 50s\n",
            "100:\tlearn: 0.7538254\ttest: 0.7538254\ttest1: 0.7298571\tbest: 0.7322857 (82)\ttotal: 13.3s\tremaining: 1m 32s\n",
            "200:\tlearn: 0.7770794\ttest: 0.7770794\ttest1: 0.7337143\tbest: 0.7345714 (192)\ttotal: 26.6s\tremaining: 1m 19s\n",
            "300:\tlearn: 0.7987778\ttest: 0.7987778\ttest1: 0.7312857\tbest: 0.7345714 (192)\ttotal: 39.9s\tremaining: 1m 6s\n",
            "Stopped by overfitting detector  (200 iterations wait)\n",
            "\n",
            "bestTest = 0.7345714286\n",
            "bestIteration = 192\n",
            "\n",
            "Shrink model to first 193 iterations.\n",
            "**********Epoch : 10*********\n",
            "Train score : 0.7752857142857142\n",
            "Test score : 0.7345714285714285\n",
            "\n",
            "**********Final Result*********\n",
            "Train score : 0.7669301587301588\n",
            "Test score : 0.7387428571428571\n"
          ]
        }
      ],
      "source": [
        "split = StratifiedKFold(n_splits = 10, random_state = 2022, shuffle = True)\n",
        "\n",
        "train_scores = []; test_scores = []\n",
        "test_predictions = []\n",
        "for (epoch, (train_index, valid_index)) in enumerate(split.split(X, y)):\n",
        "  X_train = X.iloc[train_index]; y_train = y.iloc[train_index]\n",
        "  X_valid = X.iloc[valid_index]; y_valid = y.iloc[valid_index]\n",
        "\n",
        "  model = CatBoostClassifier(n_estimators=800,eval_metric='Accuracy',od_wait=200, learning_rate=0.2,\n",
        "                              bootstrap_type='Bernoulli',metric_period=100,max_depth = 8,\n",
        "                     use_best_model=True)\n",
        "  model.fit(X_train,y_train,eval_set=[(X_train,y_train),(X_valid, y_valid)], early_stopping_rounds=200,verbose=100,)\n",
        "  pred = model.predict(X_valid)\n",
        "\n",
        "  score_train = accuracy_score(y_train, model.predict(X_train))\n",
        "  score_test = accuracy_score(y_valid, pred)\n",
        "  train_scores.append(score_train); test_scores.append(score_test)\n",
        "\n",
        "  test_df_pred = model.predict(X_test)\n",
        "  test_predictions.append(test_df_pred)\n",
        "\n",
        "  print(f\"**********Epoch : {epoch + 1}*********\")\n",
        "  print(f\"Train score : {score_train}\")\n",
        "  print(f\"Test score : {score_test}\\n\")\n",
        "\n",
        "print(\"**********Final Result*********\")\n",
        "print(f\"Train score : {np.mean(train_scores)}\")\n",
        "print(f\"Test score : {np.mean(test_scores)}\")\n"
      ]
    },
    {
      "cell_type": "code",
      "execution_count": 44,
      "metadata": {
        "id": "AZb9p5muPS4o",
        "colab": {
          "base_uri": "https://localhost:8080/",
          "height": 730
        },
        "outputId": "6a020664-4087-4bfe-d49a-01aeb0982818"
      },
      "outputs": [
        {
          "output_type": "display_data",
          "data": {
            "text/plain": [
              "<Figure size 1440x864 with 1 Axes>"
            ],
            "image/png": "[encoded data removed]"
          },
          "metadata": {}
        }
      ],
      "source": [
        "feature_importance_df = pd.DataFrame(model.feature_importances_, columns=['importance'])\n",
        "feature_importance_df['feature'] = X_train.columns\n",
        "\n",
        "plt.figure(figsize=(20, 12));\n",
        "sns.barplot(x=\"importance\", y=\"feature\", data=feature_importance_df.sort_values(by = ['importance'], ascending = False))\n",
        "plt.title('CatboostClassifier features importance');"
      ]
    },
    {
      "cell_type": "markdown",
      "metadata": {
        "id": "8edVtoDWDzwe"
      },
      "source": [
        "### **Model Prediction**"
      ]
    },
    {
      "cell_type": "code",
      "execution_count": 45,
      "metadata": {
        "id": "I0e3OdUHBg_T",
        "colab": {
          "base_uri": "https://localhost:8080/"
        },
        "outputId": "60350a84-585f-433c-cbb8-1bfaf9e877e6"
      },
      "outputs": [
        {
          "output_type": "stream",
          "name": "stdout",
          "text": [
            "0:\tlearn: 0.6130143\ttotal: 144ms\tremaining: 1m 54s\n",
            "100:\tlearn: 0.7511714\ttotal: 14.1s\tremaining: 1m 37s\n",
            "200:\tlearn: 0.7739286\ttotal: 28.1s\tremaining: 1m 23s\n",
            "300:\tlearn: 0.7936714\ttotal: 42.2s\tremaining: 1m 9s\n",
            "400:\tlearn: 0.8111000\ttotal: 56.2s\tremaining: 55.9s\n",
            "500:\tlearn: 0.8303429\ttotal: 1m 10s\tremaining: 41.9s\n",
            "600:\tlearn: 0.8473143\ttotal: 1m 24s\tremaining: 27.9s\n",
            "700:\tlearn: 0.8620143\ttotal: 1m 38s\tremaining: 13.9s\n",
            "799:\tlearn: 0.8764286\ttotal: 1m 52s\tremaining: 0us\n"
          ]
        }
      ],
      "source": [
        "model = CatBoostClassifier(n_estimators=800,eval_metric='Accuracy',od_wait=200, learning_rate=0.2,\n",
        "                          bootstrap_type='Bernoulli',metric_period=100,max_depth = 8) #use_best_model=True)\n",
        "model.fit(X, y)\n",
        "\n",
        "pred = model.predict(X_test)"
      ]
    },
    {
      "cell_type": "code",
      "execution_count": 46,
      "metadata": {
        "id": "rB7LJgBmEH13"
      },
      "outputs": [],
      "source": [
        "sub1 = SampleSubmission.copy()\n",
        "sub1['label'] = pred\n",
        "sub1['ID'] = test['ID']\n",
        "\n",
        "sub1.to_csv('Catboost_model.csv', index = False)"
      ]
    }
  ],
  "metadata": {
    "colab": {
      "collapsed_sections": [
        "rz5rgCWjNK0N",
        "xkG47Fj-NT3s",
        "aHUnKaNbN8VM",
        "S25b4uitQBmc",
        "Rd6J1NOOVpUs",
        "8Em5gU35aaXG",
        "VQwcfnjkgoiE",
        "LSklN3VyszNT",
        "S_IF2_htFbbu",
        "TycEiksoT1ND",
        "POJQf4CpIZI5",
        "t62AKaIurHmO",
        "L2HiZ-mPrL9W",
        "kOiEX_4YsQ4k"
      ],
      "name": "AI4D iCompass Social Media Sentiment Analysis for Tunisian Arabizi.ipynb",
      "provenance": []
    },
    "kernelspec": {
      "display_name": "Python 3",
      "name": "python3"
    },
    "language_info": {
      "name": "python"
    }
  },
  "nbformat": 4,
  "nbformat_minor": 0
}